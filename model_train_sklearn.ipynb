{
 "cells": [
  {
   "cell_type": "code",
   "execution_count": 2,
   "id": "9b91f989",
   "metadata": {},
   "outputs": [
    {
     "name": "stdout",
     "output_type": "stream",
     "text": [
      "hello\n"
     ]
    }
   ],
   "source": [
    "print(\"hello\")"
   ]
  },
  {
   "cell_type": "code",
   "execution_count": 3,
   "id": "85951f26",
   "metadata": {},
   "outputs": [],
   "source": [
    "import numpy as np\n",
    "import pandas as pd\n",
    "import matplotlib.pyplot as plt\n",
    "import seaborn as sns\n",
    "from sklearn import model_selection"
   ]
  },
  {
   "cell_type": "code",
   "execution_count": 4,
   "id": "651c69cd",
   "metadata": {},
   "outputs": [],
   "source": [
    "wine=pd.read_csv('Wine_quality.csv')"
   ]
  },
  {
   "cell_type": "code",
   "execution_count": 5,
   "id": "040f3926",
   "metadata": {},
   "outputs": [],
   "source": [
    "winedf=wine[['quality','alcohol','chlorides','sulphates', 'volatile acidity', 'citric acid']] \n"
   ]
  },
  {
   "cell_type": "code",
   "execution_count": 6,
   "id": "b95608cd",
   "metadata": {},
   "outputs": [
    {
     "data": {
      "text/html": [
       "<div>\n",
       "<style scoped>\n",
       "    .dataframe tbody tr th:only-of-type {\n",
       "        vertical-align: middle;\n",
       "    }\n",
       "\n",
       "    .dataframe tbody tr th {\n",
       "        vertical-align: top;\n",
       "    }\n",
       "\n",
       "    .dataframe thead th {\n",
       "        text-align: right;\n",
       "    }\n",
       "</style>\n",
       "<table border=\"1\" class=\"dataframe\">\n",
       "  <thead>\n",
       "    <tr style=\"text-align: right;\">\n",
       "      <th></th>\n",
       "      <th>quality</th>\n",
       "      <th>alcohol</th>\n",
       "      <th>chlorides</th>\n",
       "      <th>sulphates</th>\n",
       "      <th>volatile acidity</th>\n",
       "      <th>citric acid</th>\n",
       "    </tr>\n",
       "  </thead>\n",
       "  <tbody>\n",
       "    <tr>\n",
       "      <th>0</th>\n",
       "      <td>5</td>\n",
       "      <td>9.4</td>\n",
       "      <td>0.076</td>\n",
       "      <td>0.56</td>\n",
       "      <td>0.700</td>\n",
       "      <td>0.00</td>\n",
       "    </tr>\n",
       "    <tr>\n",
       "      <th>1</th>\n",
       "      <td>5</td>\n",
       "      <td>9.8</td>\n",
       "      <td>0.098</td>\n",
       "      <td>0.68</td>\n",
       "      <td>0.880</td>\n",
       "      <td>0.00</td>\n",
       "    </tr>\n",
       "    <tr>\n",
       "      <th>2</th>\n",
       "      <td>5</td>\n",
       "      <td>9.8</td>\n",
       "      <td>0.092</td>\n",
       "      <td>0.65</td>\n",
       "      <td>0.760</td>\n",
       "      <td>0.04</td>\n",
       "    </tr>\n",
       "    <tr>\n",
       "      <th>3</th>\n",
       "      <td>6</td>\n",
       "      <td>9.8</td>\n",
       "      <td>0.075</td>\n",
       "      <td>0.58</td>\n",
       "      <td>0.280</td>\n",
       "      <td>0.56</td>\n",
       "    </tr>\n",
       "    <tr>\n",
       "      <th>4</th>\n",
       "      <td>5</td>\n",
       "      <td>9.4</td>\n",
       "      <td>0.076</td>\n",
       "      <td>0.56</td>\n",
       "      <td>0.700</td>\n",
       "      <td>0.00</td>\n",
       "    </tr>\n",
       "    <tr>\n",
       "      <th>...</th>\n",
       "      <td>...</td>\n",
       "      <td>...</td>\n",
       "      <td>...</td>\n",
       "      <td>...</td>\n",
       "      <td>...</td>\n",
       "      <td>...</td>\n",
       "    </tr>\n",
       "    <tr>\n",
       "      <th>1138</th>\n",
       "      <td>6</td>\n",
       "      <td>11.0</td>\n",
       "      <td>0.076</td>\n",
       "      <td>0.75</td>\n",
       "      <td>0.510</td>\n",
       "      <td>0.13</td>\n",
       "    </tr>\n",
       "    <tr>\n",
       "      <th>1139</th>\n",
       "      <td>6</td>\n",
       "      <td>9.5</td>\n",
       "      <td>0.068</td>\n",
       "      <td>0.82</td>\n",
       "      <td>0.620</td>\n",
       "      <td>0.08</td>\n",
       "    </tr>\n",
       "    <tr>\n",
       "      <th>1140</th>\n",
       "      <td>5</td>\n",
       "      <td>10.5</td>\n",
       "      <td>0.090</td>\n",
       "      <td>0.58</td>\n",
       "      <td>0.600</td>\n",
       "      <td>0.08</td>\n",
       "    </tr>\n",
       "    <tr>\n",
       "      <th>1141</th>\n",
       "      <td>6</td>\n",
       "      <td>11.2</td>\n",
       "      <td>0.062</td>\n",
       "      <td>0.76</td>\n",
       "      <td>0.550</td>\n",
       "      <td>0.10</td>\n",
       "    </tr>\n",
       "    <tr>\n",
       "      <th>1142</th>\n",
       "      <td>5</td>\n",
       "      <td>10.2</td>\n",
       "      <td>0.075</td>\n",
       "      <td>0.71</td>\n",
       "      <td>0.645</td>\n",
       "      <td>0.12</td>\n",
       "    </tr>\n",
       "  </tbody>\n",
       "</table>\n",
       "<p>1143 rows × 6 columns</p>\n",
       "</div>"
      ],
      "text/plain": [
       "      quality  alcohol  chlorides  sulphates  volatile acidity  citric acid\n",
       "0           5      9.4      0.076       0.56             0.700         0.00\n",
       "1           5      9.8      0.098       0.68             0.880         0.00\n",
       "2           5      9.8      0.092       0.65             0.760         0.04\n",
       "3           6      9.8      0.075       0.58             0.280         0.56\n",
       "4           5      9.4      0.076       0.56             0.700         0.00\n",
       "...       ...      ...        ...        ...               ...          ...\n",
       "1138        6     11.0      0.076       0.75             0.510         0.13\n",
       "1139        6      9.5      0.068       0.82             0.620         0.08\n",
       "1140        5     10.5      0.090       0.58             0.600         0.08\n",
       "1141        6     11.2      0.062       0.76             0.550         0.10\n",
       "1142        5     10.2      0.075       0.71             0.645         0.12\n",
       "\n",
       "[1143 rows x 6 columns]"
      ]
     },
     "execution_count": 6,
     "metadata": {},
     "output_type": "execute_result"
    }
   ],
   "source": [
    "winedf"
   ]
  },
  {
   "cell_type": "code",
   "execution_count": 7,
   "id": "7871e080",
   "metadata": {},
   "outputs": [
    {
     "data": {
      "text/plain": [
       "(1143, 6)"
      ]
     },
     "execution_count": 7,
     "metadata": {},
     "output_type": "execute_result"
    }
   ],
   "source": [
    "winedf.shape"
   ]
  },
  {
   "cell_type": "code",
   "execution_count": 8,
   "id": "d06048b5",
   "metadata": {},
   "outputs": [
    {
     "data": {
      "image/png": "[encoded data removed]",
      "text/plain": [
       "<Figure size 640x480 with 1 Axes>"
      ]
     },
     "metadata": {},
     "output_type": "display_data"
    }
   ],
   "source": [
    "plt.scatter(winedf['alcohol'],winedf['quality'])\n",
    "plt.xlabel('alcohol')\n",
    "plt.ylabel('quality')\n",
    "plt.show()"
   ]
  },
  {
   "cell_type": "code",
   "execution_count": 9,
   "id": "6d72d0c3",
   "metadata": {},
   "outputs": [
    {
     "data": {
      "image/png": "[encoded data removed]",
      "text/plain": [
       "<Figure size 640x480 with 1 Axes>"
      ]
     },
     "metadata": {},
     "output_type": "display_data"
    }
   ],
   "source": [
    "plt.scatter(winedf['chlorides'],winedf['quality'])\n",
    "plt.xlabel('chlorides')\n",
    "plt.ylabel('quality')\n",
    "plt.show()"
   ]
  },
  {
   "cell_type": "code",
   "execution_count": 13,
   "id": "b69e8596",
   "metadata": {},
   "outputs": [
    {
     "name": "stdout",
     "output_type": "stream",
     "text": [
      "<class 'pandas.core.frame.DataFrame'>\n",
      "RangeIndex: 1143 entries, 0 to 1142\n",
      "Data columns (total 6 columns):\n",
      " #   Column            Non-Null Count  Dtype  \n",
      "---  ------            --------------  -----  \n",
      " 0   quality           1143 non-null   int64  \n",
      " 1   alcohol           1143 non-null   float64\n",
      " 2   chlorides         1143 non-null   float64\n",
      " 3   sulphates         1143 non-null   float64\n",
      " 4   volatile acidity  1143 non-null   float64\n",
      " 5   citric acid       1143 non-null   float64\n",
      "dtypes: float64(5), int64(1)\n",
      "memory usage: 53.7 KB\n"
     ]
    }
   ],
   "source": [
    "winedf.info()"
   ]
  },
  {
   "cell_type": "code",
   "execution_count": 14,
   "id": "97c498cb",
   "metadata": {},
   "outputs": [],
   "source": [
    "y=winedf['quality']"
   ]
  },
  {
   "cell_type": "code",
   "execution_count": 15,
   "id": "09c6a41f",
   "metadata": {},
   "outputs": [],
   "source": [
    "x=winedf.drop(columns='quality')"
   ]
  },
  {
   "cell_type": "code",
   "execution_count": 16,
   "id": "00695b8c",
   "metadata": {},
   "outputs": [
    {
     "data": {
      "text/html": [
       "<div>\n",
       "<style scoped>\n",
       "    .dataframe tbody tr th:only-of-type {\n",
       "        vertical-align: middle;\n",
       "    }\n",
       "\n",
       "    .dataframe tbody tr th {\n",
       "        vertical-align: top;\n",
       "    }\n",
       "\n",
       "    .dataframe thead th {\n",
       "        text-align: right;\n",
       "    }\n",
       "</style>\n",
       "<table border=\"1\" class=\"dataframe\">\n",
       "  <thead>\n",
       "    <tr style=\"text-align: right;\">\n",
       "      <th></th>\n",
       "      <th>alcohol</th>\n",
       "      <th>chlorides</th>\n",
       "      <th>sulphates</th>\n",
       "      <th>volatile acidity</th>\n",
       "      <th>citric acid</th>\n",
       "    </tr>\n",
       "  </thead>\n",
       "  <tbody>\n",
       "    <tr>\n",
       "      <th>0</th>\n",
       "      <td>9.4</td>\n",
       "      <td>0.076</td>\n",
       "      <td>0.56</td>\n",
       "      <td>0.700</td>\n",
       "      <td>0.00</td>\n",
       "    </tr>\n",
       "    <tr>\n",
       "      <th>1</th>\n",
       "      <td>9.8</td>\n",
       "      <td>0.098</td>\n",
       "      <td>0.68</td>\n",
       "      <td>0.880</td>\n",
       "      <td>0.00</td>\n",
       "    </tr>\n",
       "    <tr>\n",
       "      <th>2</th>\n",
       "      <td>9.8</td>\n",
       "      <td>0.092</td>\n",
       "      <td>0.65</td>\n",
       "      <td>0.760</td>\n",
       "      <td>0.04</td>\n",
       "    </tr>\n",
       "    <tr>\n",
       "      <th>3</th>\n",
       "      <td>9.8</td>\n",
       "      <td>0.075</td>\n",
       "      <td>0.58</td>\n",
       "      <td>0.280</td>\n",
       "      <td>0.56</td>\n",
       "    </tr>\n",
       "    <tr>\n",
       "      <th>4</th>\n",
       "      <td>9.4</td>\n",
       "      <td>0.076</td>\n",
       "      <td>0.56</td>\n",
       "      <td>0.700</td>\n",
       "      <td>0.00</td>\n",
       "    </tr>\n",
       "    <tr>\n",
       "      <th>...</th>\n",
       "      <td>...</td>\n",
       "      <td>...</td>\n",
       "      <td>...</td>\n",
       "      <td>...</td>\n",
       "      <td>...</td>\n",
       "    </tr>\n",
       "    <tr>\n",
       "      <th>1138</th>\n",
       "      <td>11.0</td>\n",
       "      <td>0.076</td>\n",
       "      <td>0.75</td>\n",
       "      <td>0.510</td>\n",
       "      <td>0.13</td>\n",
       "    </tr>\n",
       "    <tr>\n",
       "      <th>1139</th>\n",
       "      <td>9.5</td>\n",
       "      <td>0.068</td>\n",
       "      <td>0.82</td>\n",
       "      <td>0.620</td>\n",
       "      <td>0.08</td>\n",
       "    </tr>\n",
       "    <tr>\n",
       "      <th>1140</th>\n",
       "      <td>10.5</td>\n",
       "      <td>0.090</td>\n",
       "      <td>0.58</td>\n",
       "      <td>0.600</td>\n",
       "      <td>0.08</td>\n",
       "    </tr>\n",
       "    <tr>\n",
       "      <th>1141</th>\n",
       "      <td>11.2</td>\n",
       "      <td>0.062</td>\n",
       "      <td>0.76</td>\n",
       "      <td>0.550</td>\n",
       "      <td>0.10</td>\n",
       "    </tr>\n",
       "    <tr>\n",
       "      <th>1142</th>\n",
       "      <td>10.2</td>\n",
       "      <td>0.075</td>\n",
       "      <td>0.71</td>\n",
       "      <td>0.645</td>\n",
       "      <td>0.12</td>\n",
       "    </tr>\n",
       "  </tbody>\n",
       "</table>\n",
       "<p>1143 rows × 5 columns</p>\n",
       "</div>"
      ],
      "text/plain": [
       "      alcohol  chlorides  sulphates  volatile acidity  citric acid\n",
       "0         9.4      0.076       0.56             0.700         0.00\n",
       "1         9.8      0.098       0.68             0.880         0.00\n",
       "2         9.8      0.092       0.65             0.760         0.04\n",
       "3         9.8      0.075       0.58             0.280         0.56\n",
       "4         9.4      0.076       0.56             0.700         0.00\n",
       "...       ...        ...        ...               ...          ...\n",
       "1138     11.0      0.076       0.75             0.510         0.13\n",
       "1139      9.5      0.068       0.82             0.620         0.08\n",
       "1140     10.5      0.090       0.58             0.600         0.08\n",
       "1141     11.2      0.062       0.76             0.550         0.10\n",
       "1142     10.2      0.075       0.71             0.645         0.12\n",
       "\n",
       "[1143 rows x 5 columns]"
      ]
     },
     "execution_count": 16,
     "metadata": {},
     "output_type": "execute_result"
    }
   ],
   "source": [
    "x"
   ]
  },
  {
   "cell_type": "code",
   "execution_count": 17,
   "id": "4e9e5026",
   "metadata": {},
   "outputs": [],
   "source": [
    "from sklearn.model_selection import train_test_split\n",
    "x_train, x_test, y_train, y_test=train_test_split(x,y,test_size=0.3)"
   ]
  },
  {
   "cell_type": "code",
   "execution_count": 18,
   "id": "4be705d6",
   "metadata": {},
   "outputs": [],
   "source": [
    "from sklearn.linear_model import LinearRegression\n",
    "lr=LinearRegression()"
   ]
  },
  {
   "cell_type": "code",
   "execution_count": 19,
   "id": "22880e37",
   "metadata": {},
   "outputs": [
    {
     "data": {
      "text/html": [
       "<style>#sk-container-id-1 {color: black;background-color: white;}#sk-container-id-1 pre{padding: 0;}#sk-container-id-1 div.sk-toggleable {background-color: white;}#sk-container-id-1 label.sk-toggleable__label {cursor: pointer;display: block;width: 100%;margin-bottom: 0;padding: 0.3em;box-sizing: border-box;text-align: center;}#sk-container-id-1 label.sk-toggleable__label-arrow:before {content: \"▸\";float: left;margin-right: 0.25em;color: #696969;}#sk-container-id-1 label.sk-toggleable__label-arrow:hover:before {color: black;}#sk-container-id-1 div.sk-estimator:hover label.sk-toggleable__label-arrow:before {color: black;}#sk-container-id-1 div.sk-toggleable__content {max-height: 0;max-width: 0;overflow: hidden;text-align: left;background-color: #f0f8ff;}#sk-container-id-1 div.sk-toggleable__content pre {margin: 0.2em;color: black;border-radius: 0.25em;background-color: #f0f8ff;}#sk-container-id-1 input.sk-toggleable__control:checked~div.sk-toggleable__content {max-height: 200px;max-width: 100%;overflow: auto;}#sk-container-id-1 input.sk-toggleable__control:checked~label.sk-toggleable__label-arrow:before {content: \"▾\";}#sk-container-id-1 div.sk-estimator input.sk-toggleable__control:checked~label.sk-toggleable__label {background-color: #d4ebff;}#sk-container-id-1 div.sk-label input.sk-toggleable__control:checked~label.sk-toggleable__label {background-color: #d4ebff;}#sk-container-id-1 input.sk-hidden--visually {border: 0;clip: rect(1px 1px 1px 1px);clip: rect(1px, 1px, 1px, 1px);height: 1px;margin: -1px;overflow: hidden;padding: 0;position: absolute;width: 1px;}#sk-container-id-1 div.sk-estimator {font-family: monospace;background-color: #f0f8ff;border: 1px dotted black;border-radius: 0.25em;box-sizing: border-box;margin-bottom: 0.5em;}#sk-container-id-1 div.sk-estimator:hover {background-color: #d4ebff;}#sk-container-id-1 div.sk-parallel-item::after {content: \"\";width: 100%;border-bottom: 1px solid gray;flex-grow: 1;}#sk-container-id-1 div.sk-label:hover label.sk-toggleable__label {background-color: #d4ebff;}#sk-container-id-1 div.sk-serial::before {content: \"\";position: absolute;border-left: 1px solid gray;box-sizing: border-box;top: 0;bottom: 0;left: 50%;z-index: 0;}#sk-container-id-1 div.sk-serial {display: flex;flex-direction: column;align-items: center;background-color: white;padding-right: 0.2em;padding-left: 0.2em;position: relative;}#sk-container-id-1 div.sk-item {position: relative;z-index: 1;}#sk-container-id-1 div.sk-parallel {display: flex;align-items: stretch;justify-content: center;background-color: white;position: relative;}#sk-container-id-1 div.sk-item::before, #sk-container-id-1 div.sk-parallel-item::before {content: \"\";position: absolute;border-left: 1px solid gray;box-sizing: border-box;top: 0;bottom: 0;left: 50%;z-index: -1;}#sk-container-id-1 div.sk-parallel-item {display: flex;flex-direction: column;z-index: 1;position: relative;background-color: white;}#sk-container-id-1 div.sk-parallel-item:first-child::after {align-self: flex-end;width: 50%;}#sk-container-id-1 div.sk-parallel-item:last-child::after {align-self: flex-start;width: 50%;}#sk-container-id-1 div.sk-parallel-item:only-child::after {width: 0;}#sk-container-id-1 div.sk-dashed-wrapped {border: 1px dashed gray;margin: 0 0.4em 0.5em 0.4em;box-sizing: border-box;padding-bottom: 0.4em;background-color: white;}#sk-container-id-1 div.sk-label label {font-family: monospace;font-weight: bold;display: inline-block;line-height: 1.2em;}#sk-container-id-1 div.sk-label-container {text-align: center;}#sk-container-id-1 div.sk-container {/* jupyter's `normalize.less` sets `[hidden] { display: none; }` but bootstrap.min.css set `[hidden] { display: none !important; }` so we also need the `!important` here to be able to override the default hidden behavior on the sphinx rendered scikit-learn.org. See: https://github.com/scikit-learn/scikit-learn/issues/21755 */display: inline-block !important;position: relative;}#sk-container-id-1 div.sk-text-repr-fallback {display: none;}</style><div id=\"sk-container-id-1\" class=\"sk-top-container\"><div class=\"sk-text-repr-fallback\"><pre>LinearRegression()</pre><b>In a Jupyter environment, please rerun this cell to show the HTML representation or trust the notebook. <br />On GitHub, the HTML representation is unable to render, please try loading this page with nbviewer.org.</b></div><div class=\"sk-container\" hidden><div class=\"sk-item\"><div class=\"sk-estimator sk-toggleable\"><input class=\"sk-toggleable__control sk-hidden--visually\" id=\"sk-estimator-id-1\" type=\"checkbox\" checked><label for=\"sk-estimator-id-1\" class=\"sk-toggleable__label sk-toggleable__label-arrow\">LinearRegression</label><div class=\"sk-toggleable__content\"><pre>LinearRegression()</pre></div></div></div></div></div>"
      ],
      "text/plain": [
       "LinearRegression()"
      ]
     },
     "execution_count": 19,
     "metadata": {},
     "output_type": "execute_result"
    }
   ],
   "source": [
    "lr.fit(x_train, y_train)"
   ]
  },
  {
   "cell_type": "code",
   "execution_count": 23,
   "id": "4c2575d0",
   "metadata": {},
   "outputs": [],
   "source": [
    "m=lr.coef_"
   ]
  },
  {
   "cell_type": "code",
   "execution_count": 24,
   "id": "562985c2",
   "metadata": {},
   "outputs": [
    {
     "data": {
      "text/plain": [
       "array([ 0.2940222 , -1.52183533,  0.96584034, -1.22862753,  0.03973047])"
      ]
     },
     "execution_count": 24,
     "metadata": {},
     "output_type": "execute_result"
    }
   ],
   "source": [
    "m"
   ]
  },
  {
   "cell_type": "code",
   "execution_count": 25,
   "id": "cc4c673a",
   "metadata": {},
   "outputs": [],
   "source": [
    "c=lr.intercept_"
   ]
  },
  {
   "cell_type": "code",
   "execution_count": 26,
   "id": "eed433dd",
   "metadata": {},
   "outputs": [
    {
     "data": {
      "text/plain": [
       "2.729058476017937"
      ]
     },
     "execution_count": 26,
     "metadata": {},
     "output_type": "execute_result"
    }
   ],
   "source": [
    "c"
   ]
  },
  {
   "cell_type": "code",
   "execution_count": 27,
   "id": "3af6ce69",
   "metadata": {},
   "outputs": [],
   "source": [
    "y_pred_train=lr.predict(x_train)"
   ]
  },
  {
   "cell_type": "code",
   "execution_count": 28,
   "id": "fa673f72",
   "metadata": {},
   "outputs": [
    {
     "data": {
      "text/plain": [
       "array([5.27346677, 5.66627877, 6.05976056, 4.70248711, 5.22569824,\n",
       "       5.33078401, 6.25538358, 5.03984177, 5.95342302, 6.02401693,\n",
       "       5.33967752, 6.48202511, 6.24762126, 6.4921997 , 5.31700918,\n",
       "       6.55594552, 5.92035033, 5.34925804, 5.20047801, 5.81206643,\n",
       "       5.67297581, 6.02394776, 5.05766676, 5.5013558 , 6.60115101,\n",
       "       5.25016536, 5.83082795, 5.63798988, 5.72862162, 5.28104298,\n",
       "       5.1637439 , 5.51391016, 5.20771992, 5.82179458, 4.95393223,\n",
       "       6.16645372, 4.90701315, 5.05711678, 5.98807262, 5.68035081,\n",
       "       5.20261909, 5.08290496, 5.45612511, 5.46308622, 5.7299422 ,\n",
       "       5.14994631, 5.60470874, 5.51539151, 5.47035418, 5.75868102,\n",
       "       5.20127603, 6.34264808, 6.507279  , 5.57850545, 6.32506155,\n",
       "       5.39479563, 5.62835665, 5.95024223, 5.31979429, 6.14651612,\n",
       "       5.12546641, 6.19464275, 6.44989003, 6.49263838, 5.64755466,\n",
       "       5.4518697 , 5.20266035, 6.2133956 , 6.35160591, 5.44248603,\n",
       "       6.26834377, 5.07480206, 5.12340337, 4.80032023, 6.03348701,\n",
       "       6.35750467, 5.2981877 , 5.01680724, 5.75308787, 5.32873136,\n",
       "       5.16540865, 5.72582151, 4.34384486, 6.62361837, 5.89733577,\n",
       "       6.00260216, 6.20835543, 5.03993466, 5.48102666, 5.73062328,\n",
       "       5.21608812, 5.3508684 , 6.28062761, 5.04775905, 5.60954642,\n",
       "       5.28063913, 6.45668109, 6.01125338, 5.56237561, 5.88236487,\n",
       "       6.46607434, 5.45220302, 5.29093191, 6.71826707, 5.33504889,\n",
       "       5.29504177, 5.32972433, 5.39593245, 5.2145259 , 6.02937593,\n",
       "       5.38682653, 5.00833221, 6.44387691, 6.60708755, 5.21987968,\n",
       "       5.50948154, 5.24635216, 6.4204468 , 5.82361115, 5.31023888,\n",
       "       6.09980129, 4.91151804, 5.58621716, 5.74705972, 6.16443323,\n",
       "       5.58528128, 5.87646055, 5.95058837, 5.32432142, 6.00260216,\n",
       "       5.7225912 , 6.13418346, 5.39678023, 6.37798981, 5.83390573,\n",
       "       5.98744996, 6.30980558, 5.26723412, 6.38529654, 5.31252605,\n",
       "       5.44083219, 6.10051246, 5.14707234, 5.2252192 , 5.26715539,\n",
       "       5.81447023, 5.83768767, 5.6975655 , 5.51864777, 5.09886587,\n",
       "       6.3643135 , 5.54687219, 5.1683722 , 6.14435073, 4.77363332,\n",
       "       6.02700867, 5.45641672, 5.5777064 , 5.32548309, 5.16495431,\n",
       "       5.31479381, 5.70771761, 5.43495683, 5.75009935, 5.34668378,\n",
       "       6.08528533, 6.27638654, 5.56581731, 5.29092806, 5.20245099,\n",
       "       6.46952095, 5.40311747, 4.90329992, 5.89236487, 5.41329713,\n",
       "       5.25584582, 5.25584582, 5.81928211, 4.94428628, 5.13668166,\n",
       "       6.02787057, 5.1393358 , 5.80855547, 6.43354237, 6.47451854,\n",
       "       5.44403142, 5.99325719, 6.44912468, 5.51539151, 5.92017723,\n",
       "       5.03000697, 5.16123884, 6.19156478, 5.32854295, 5.41288028,\n",
       "       5.62569544, 5.85824597, 5.79959431, 5.22269967, 5.44612557,\n",
       "       5.13727451, 5.67923969, 4.65693686, 5.3308384 , 5.58528128,\n",
       "       5.10205115, 6.58960531, 5.06657077, 5.03691538, 5.74304689,\n",
       "       6.07787332, 5.05803899, 5.58420576, 6.18270786, 6.68659598,\n",
       "       6.10235401, 5.1660957 , 6.09040605, 5.75238333, 6.507279  ,\n",
       "       5.09735438, 5.43242747, 5.22545512, 5.24380338, 5.46919393,\n",
       "       5.74700777, 5.60658633, 5.34861948, 5.37697365, 5.12127832,\n",
       "       6.22491914, 5.31861732, 5.47471796, 5.88383137, 5.69478831,\n",
       "       5.08331276, 5.57430848, 5.85177204, 6.43837151, 5.73624588,\n",
       "       5.32356725, 5.3897693 , 5.16582377, 5.72482928, 5.15244812,\n",
       "       4.99711578, 5.10355077, 6.18712765, 5.36046227, 5.51571299,\n",
       "       5.55272389, 5.73475914, 5.62151035, 6.47616319, 6.19102698,\n",
       "       5.62835665, 5.05803899, 5.31416507, 5.66605886, 4.97668483,\n",
       "       5.75009935, 5.31244672, 5.36794215, 5.26306658, 5.41888636,\n",
       "       5.21394213, 6.50600687, 6.1023863 , 6.28334469, 6.20841791,\n",
       "       6.49030029, 5.36326192, 5.75030765, 6.00933544, 6.37889222,\n",
       "       5.72799286, 6.38269881, 5.27009693, 5.58533489, 5.66885802,\n",
       "       5.75238333, 6.0065771 , 5.11173984, 5.14504013, 4.98158974,\n",
       "       5.5699258 , 5.27214457, 5.50551571, 6.20531464, 6.50189438,\n",
       "       5.56869729, 5.25352266, 5.84945566, 6.38366514, 5.22867121,\n",
       "       5.43357161, 5.2892351 , 5.50779386, 6.66991016, 5.01660679,\n",
       "       5.96692632, 5.57760206, 4.76436044, 5.89354511, 6.38783603,\n",
       "       6.24234914, 5.42035011, 5.64839483, 6.28922637, 5.95458222,\n",
       "       5.27885316, 6.47666715, 5.20205835, 6.09040605, 5.40286196,\n",
       "       5.94025326, 5.61723125, 5.40290959, 5.24275305, 5.90193114,\n",
       "       6.39365542, 6.14797902, 5.99661747, 5.58420576, 6.47535876,\n",
       "       6.13654849, 5.48199238, 6.05968527, 5.81067174, 5.48687651,\n",
       "       4.8929888 , 4.96826591, 6.46607434, 5.61472638, 6.76496208,\n",
       "       5.68681762, 5.44083219, 5.69478831, 5.76575863, 4.87882813,\n",
       "       5.49264978, 5.72191953, 6.52794674, 5.81793222, 6.51199041,\n",
       "       5.66280522, 5.03391898, 5.3380577 , 5.75724996, 5.55340018,\n",
       "       5.47178057, 5.54794247, 5.77109624, 6.19188839, 5.72963814,\n",
       "       5.07768312, 6.41315593, 5.02654371, 5.84544196, 5.38039029,\n",
       "       5.47035418, 4.76032374, 5.21713348, 6.58887484, 5.49348285,\n",
       "       5.95963267, 5.2149008 , 5.4365299 , 4.89743622, 5.24408307,\n",
       "       5.2031974 , 6.5812329 , 6.09475682, 6.08976595, 5.54968656,\n",
       "       5.36815349, 6.20072993, 6.41539111, 5.3648057 , 5.2981877 ,\n",
       "       6.22716412, 5.24884811, 6.31778181, 6.22958006, 6.45592056,\n",
       "       6.53429894, 6.72230524, 5.81812591, 5.511034  , 5.38006132,\n",
       "       4.84089563, 5.70756758, 5.7709813 , 5.76575863, 5.05745499,\n",
       "       5.34528174, 5.72675429, 5.0638631 , 5.46919393, 5.50758228,\n",
       "       6.44864376, 5.00312772, 6.93156721, 6.11692632, 5.66838697,\n",
       "       5.49071186, 5.65085499, 5.12832763, 4.92774069, 5.40572803,\n",
       "       5.64755466, 5.78985556, 5.43335442, 6.20310447, 6.67886031,\n",
       "       6.01417574, 6.1058469 , 5.00312772, 5.11314196, 6.49892314,\n",
       "       5.33967752, 5.28861068, 5.28680599, 5.16090673, 5.08085451,\n",
       "       5.68648139, 5.27607318, 5.29352181, 5.34668378, 5.89070058,\n",
       "       5.51454978, 5.29406653, 6.62667071, 6.11242726, 5.18714632,\n",
       "       5.57032434, 5.41419706, 5.24625168, 4.99446732, 4.64642613,\n",
       "       5.05123197, 5.21139331, 5.68661484, 4.90420954, 5.76447401,\n",
       "       5.33864758, 5.67297581, 5.41329713, 5.37409875, 5.53488937,\n",
       "       5.40874511, 5.42755733, 5.71105826, 5.56627479, 5.58532617,\n",
       "       5.59859097, 5.17613497, 5.22009197, 6.49112972, 6.079287  ,\n",
       "       6.75927379, 5.35609881, 6.52326546, 5.54687219, 5.87809864,\n",
       "       5.09560276, 5.41888636, 4.6386387 , 6.3850399 , 5.00784933,\n",
       "       5.63499179, 5.55340018, 5.8007243 , 5.86801714, 5.92598971,\n",
       "       5.23426221, 5.05995753, 5.48463007, 6.07275239, 5.21611436,\n",
       "       5.96803258, 5.50744073, 5.69198517, 5.32444468, 6.72014407,\n",
       "       5.29082767, 6.10853359, 5.29352181, 5.58174739, 5.3890571 ,\n",
       "       6.01982567, 5.89017002, 6.13288192, 5.09087894, 5.26333133,\n",
       "       5.80688317, 6.2457632 , 5.36046227, 5.30480198, 6.21399721,\n",
       "       5.1672766 , 5.21612995, 4.95393894, 6.10369774, 6.12059187,\n",
       "       7.11455802, 4.17051365, 6.16443323, 6.32513721, 5.7225912 ,\n",
       "       5.27478226, 5.78985556, 6.4204468 , 7.0347647 , 5.03246883,\n",
       "       5.90465938, 5.68007616, 5.33994021, 6.31836417, 6.22857791,\n",
       "       5.64859731, 5.62449137, 5.94341272, 5.00806609, 4.7297123 ,\n",
       "       5.74669527, 5.17934687, 4.98131958, 5.24625168, 5.51199681,\n",
       "       4.73880049, 4.64981894, 5.83345606, 5.42529767, 5.56024534,\n",
       "       5.00966143, 5.41519973, 6.08504318, 6.83499461, 5.30580809,\n",
       "       5.3380577 , 5.28131201, 5.97626274, 5.57087593, 5.53878617,\n",
       "       6.09040605, 5.43636589, 5.25083214, 5.64280807, 5.25583915,\n",
       "       5.37755476, 5.14452398, 6.79271855, 5.00294896, 4.74364906,\n",
       "       5.11173984, 5.0548488 , 5.41256331, 5.42274026, 5.24378062,\n",
       "       5.76144469, 5.30379678, 5.25249021, 5.30855307, 5.2942476 ,\n",
       "       5.68836013, 4.89665609, 5.81303977, 5.3380577 , 5.75238333,\n",
       "       6.00172929, 6.471122  , 5.43896548, 5.42507119, 6.36238502,\n",
       "       5.44997138, 5.10158674, 7.11455802, 5.39836085, 5.95978975,\n",
       "       5.17336264, 5.5430344 , 5.21172027, 6.38368521, 5.96055945,\n",
       "       5.43327546, 5.91449604, 5.36982841, 5.95647512, 5.30644247,\n",
       "       5.74705972, 5.62569544, 5.38613442, 5.80169531, 5.41139402,\n",
       "       5.58904365, 4.73637612, 4.95980149, 4.85753439, 5.9025189 ,\n",
       "       5.76313151, 5.45433306, 5.89707244, 5.42507119, 6.25437683,\n",
       "       6.24762126, 6.24654488, 5.35365435, 5.25583915, 5.27611783,\n",
       "       6.54135755, 5.73071247, 6.05631833, 5.25635103, 5.79512844,\n",
       "       6.35112985, 6.57813274, 5.35904284, 6.76496208, 5.26806297,\n",
       "       4.77296244, 5.15739899, 5.36620179, 6.07196614, 5.05473627,\n",
       "       5.57777076, 6.41877941, 5.29352181, 6.25668925, 6.64412692,\n",
       "       6.02401693, 5.38006152, 5.2341651 , 5.71928305, 4.89665609,\n",
       "       5.29573834, 6.92176647, 5.69714551, 6.64379018, 5.22484023,\n",
       "       5.7570282 , 5.95504618, 5.24989503, 6.60562264, 5.62089396,\n",
       "       6.30926325, 5.89733577, 6.21306529, 5.91850434, 5.53354429,\n",
       "       5.8590857 , 5.84103624, 6.10397134, 6.0733354 , 6.98788835,\n",
       "       5.82320853, 6.29162851, 6.9621739 , 6.24653687, 5.8110024 ,\n",
       "       5.1617148 , 5.64414856, 5.5152514 , 5.45622265, 5.72862162,\n",
       "       5.12067275, 5.25825069, 5.88236487, 6.82362482, 5.0413315 ,\n",
       "       5.40740642, 6.04192875, 5.08629161, 5.12340337, 5.90305019,\n",
       "       5.29573834, 6.02526793, 6.07889634, 6.17052194, 5.66391301,\n",
       "       5.04433775, 5.20444567, 5.93988587, 5.39836085, 4.8339543 ,\n",
       "       6.17466895, 5.98049291, 6.27638654, 6.07219578, 6.24762126,\n",
       "       5.73062328, 5.60068453, 6.28703348, 5.511034  , 5.08457835,\n",
       "       6.92543636, 4.65309147, 6.12849136, 5.33896113, 5.46370482,\n",
       "       5.60285664, 5.75568992, 5.69685192, 5.67554667, 6.41648262,\n",
       "       5.4755866 , 5.3087993 , 5.29505785, 5.26295738, 6.96229276,\n",
       "       5.63898426, 5.37659095, 5.01292354, 6.73602537, 5.67588833,\n",
       "       6.18883488, 6.23153457, 5.79959431, 5.13440932, 5.79106726,\n",
       "       6.10308522, 5.73828204, 6.07196614, 4.98057954, 5.32499037,\n",
       "       5.67092548, 5.86286548, 5.52606188, 5.84903386, 6.0065771 ,\n",
       "       5.89870758, 5.68661484, 5.48375806, 6.66395023, 5.23391342,\n",
       "       5.50263723, 5.14591545, 5.22787147, 4.97579139, 5.71105826,\n",
       "       5.32163495, 6.17079695, 5.13275385, 5.51864777, 5.71556055,\n",
       "       5.65202166, 5.58801754, 5.17380689, 4.74884554, 6.60364738,\n",
       "       4.803817  , 5.25584582, 6.26866949, 5.48454208, 5.99994124,\n",
       "       6.21133584, 5.97546502, 5.37916864, 5.88863774, 5.20386074,\n",
       "       5.13440932, 4.76747017, 6.45408048, 5.99001989, 6.01624233,\n",
       "       5.11580761, 5.99095694, 5.0456136 , 5.48892743, 5.33269615,\n",
       "       5.97715137, 5.82026353, 5.27112799, 5.52293766, 5.25106596,\n",
       "       5.93295688, 5.53186405, 5.40978084, 6.23861654, 5.21555095,\n",
       "       5.24222217, 6.39330494, 5.97876242, 6.03524146, 5.38702938,\n",
       "       5.38455947, 4.99552252, 5.02333584, 5.5081523 , 4.99446732,\n",
       "       5.74005299, 5.54043201, 5.40998996, 6.7393512 , 5.88812346,\n",
       "       5.48308344, 5.19401777, 6.01237586, 6.84983953, 5.33504889])"
      ]
     },
     "execution_count": 28,
     "metadata": {},
     "output_type": "execute_result"
    }
   ],
   "source": [
    "y_pred_train"
   ]
  },
  {
   "cell_type": "code",
   "execution_count": 37,
   "id": "92263d9f",
   "metadata": {},
   "outputs": [
    {
     "data": {
      "image/png": "[encoded data removed]",
      "text/plain": [
       "<Figure size 640x480 with 1 Axes>"
      ]
     },
     "metadata": {},
     "output_type": "display_data"
    }
   ],
   "source": [
    "plt.scatter(y_train,y_pred_train)\n",
    "plt.title(\"prediction of training data\")\n",
    "plt.xlabel(\"actual quality\")\n",
    "plt.ylabel(\"predicted quality\")\n",
    "plt.show()"
   ]
  },
  {
   "cell_type": "code",
   "execution_count": 30,
   "id": "94d8544d",
   "metadata": {},
   "outputs": [],
   "source": [
    "from sklearn.metrics import r2_score"
   ]
  },
  {
   "cell_type": "code",
   "execution_count": 31,
   "id": "d2195e5d",
   "metadata": {},
   "outputs": [
    {
     "data": {
      "text/plain": [
       "0.3821640146947145"
      ]
     },
     "execution_count": 31,
     "metadata": {},
     "output_type": "execute_result"
    }
   ],
   "source": [
    "r2_score(y_train, y_pred_train)"
   ]
  },
  {
   "cell_type": "code",
   "execution_count": 32,
   "id": "7a0de857",
   "metadata": {},
   "outputs": [],
   "source": [
    "y_pred_test=lr.predict(x_test)"
   ]
  },
  {
   "cell_type": "code",
   "execution_count": 39,
   "id": "23e55526",
   "metadata": {},
   "outputs": [
    {
     "data": {
      "image/png": "[encoded data removed]",
      "text/plain": [
       "<Figure size 640x480 with 1 Axes>"
      ]
     },
     "metadata": {},
     "output_type": "display_data"
    }
   ],
   "source": [
    "plt.scatter(y_test,y_pred_test)\n",
    "plt.title(\"prediction of testing data\")\n",
    "plt.xlabel(\"actual quality\")\n",
    "plt.ylabel(\"predicted quality\")\n",
    "plt.show()"
   ]
  },
  {
   "cell_type": "code",
   "execution_count": 34,
   "id": "8aa2548c",
   "metadata": {},
   "outputs": [
    {
     "data": {
      "text/plain": [
       "0.29778823486085804"
      ]
     },
     "execution_count": 34,
     "metadata": {},
     "output_type": "execute_result"
    }
   ],
   "source": [
    "r2_score(y_test, y_pred_test)"
   ]
  },
  {
   "cell_type": "code",
   "execution_count": null,
   "id": "e0df7f11",
   "metadata": {},
   "outputs": [],
   "source": []
  }
 ],
 "metadata": {
  "kernelspec": {
   "display_name": "Python 3 (ipykernel)",
   "language": "python",
   "name": "python3"
  },
  "language_info": {
   "codemirror_mode": {
    "name": "ipython",
    "version": 3
   },
   "file_extension": ".py",
   "mimetype": "text/x-python",
   "name": "python",
   "nbconvert_exporter": "python",
   "pygments_lexer": "ipython3",
   "version": "3.10.7"
  }
 },
 "nbformat": 4,
 "nbformat_minor": 5
}
